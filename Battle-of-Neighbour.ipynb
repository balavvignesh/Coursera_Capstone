{
    "cells": [
        {
            "metadata": {
                "collapsed": true
            },
            "cell_type": "markdown",
            "source": "# The Battle of Neighborhood"
        },
        {
            "metadata": {},
            "cell_type": "markdown",
            "source": "# Applied Data Science Capstone Week 4 Peer-Graded Assignment"
        },
        {
            "metadata": {},
            "cell_type": "markdown",
            "source": "## Introduction/Business Problem"
        },
        {
            "metadata": {},
            "cell_type": "markdown",
            "source": "Introduction where you discuss the business problem and who would be interested in this project."
        },
        {
            "metadata": {},
            "cell_type": "markdown",
            "source": "Fredericton is the Capital City of the only Canadian bilingual Province of New Brunswick and is beautifully located on the banks of the Saint John River. While one of the least populated provincial capital cities with a population base of less than 60 thousand residents, it offers a wide spectrum of venues and is a governement, university and cultural hub."
        },
        {
            "metadata": {},
            "cell_type": "markdown",
            "source": "As the city grows and develops, it becomes increasingly important to examine and understand it quantitiatively. The City of Fredericton provides open data for everyone and encourages entrepreneurial use to develop services for the benefit of its ciitzens."
        },
        {
            "metadata": {},
            "cell_type": "markdown",
            "source": "Developers, policy makers and/or city planners have an interest in answering the following questions:"
        },
        {
            "metadata": {},
            "cell_type": "markdown",
            "source": "1.What neighbourhoods have the highest crime?\n\n2.Is population density correlated to crime level?\n\n3.Using Foursquare data, what venues are most common in different locations within the city?\n\n4.Does the Knowledge Park really need a coffee shop?"
        },
        {
            "metadata": {},
            "cell_type": "code",
            "source": "",
            "execution_count": null,
            "outputs": []
        }
    ],
    "metadata": {
        "kernelspec": {
            "name": "python3",
            "display_name": "Python 3.6",
            "language": "python"
        },
        "language_info": {
            "name": "python",
            "version": "3.6.8",
            "mimetype": "text/x-python",
            "codemirror_mode": {
                "name": "ipython",
                "version": 3
            },
            "pygments_lexer": "ipython3",
            "nbconvert_exporter": "python",
            "file_extension": ".py"
        }
    },
    "nbformat": 4,
    "nbformat_minor": 1
}