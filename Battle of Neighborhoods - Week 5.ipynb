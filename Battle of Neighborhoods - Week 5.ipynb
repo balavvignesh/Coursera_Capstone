{
    "cells": [
        {
            "metadata": {
                "collapsed": true
            },
            "cell_type": "markdown",
            "source": "# Segmenting and Clustering Neighborhoods in Fredericton, NB"
        },
        {
            "metadata": {},
            "cell_type": "markdown",
            "source": "## Applied Data Science Capstone Week 5 Final Project Report"
        },
        {
            "metadata": {},
            "cell_type": "markdown",
            "source": "By Balaji Vignesh V November 2019"
        },
        {
            "metadata": {},
            "cell_type": "markdown",
            "source": "## Introduction to the opportunity"
        },
        {
            "metadata": {},
            "cell_type": "markdown",
            "source": "Fredericton is the Capital City of the only Canadian fully-bilingual Province of New Brunswick and is beautifully located on the banks of the Saint John River. While one of the least populated provincial capital cities with a population base of less than 60 thousand residents, it offers a wide spectrum of venues and is a governement, university and cultural hub."
        },
        {
            "metadata": {},
            "cell_type": "markdown",
            "source": "As the city grows and develops, it becomes increasingly important to examine and understand it quantitiatively. The City of Fredericton provides open data for everyone and encourages entrepreneurial use to develop services for the benefit of its ciitzens."
        },
        {
            "metadata": {},
            "cell_type": "markdown",
            "source": "Developers, investors, policy makers and/or city planners have an interest in answering the following questions as the need for additional services and citizen protection:"
        },
        {
            "metadata": {},
            "cell_type": "markdown",
            "source": "1. What neighbourhoods have the highest crime?\n\n2. Is population density correlated to crime level?\n\n3. Using Foursquare data, what venues are most common in different locations within the city?\n\n4. Does the Knowledge Park really need a coffee shop?"
        },
        {
            "metadata": {},
            "cell_type": "markdown",
            "source": "Does the Open Data project have specific enough or thick enough data to empower decisions to be made or is it too aggregate to provide value in its current detail? Let's find out."
        },
        {
            "metadata": {},
            "cell_type": "code",
            "source": "from IPython.display import Image\nfrom IPython.core.display import HTML \nImage(url= \"http://www.tourismfredericton.ca/sites/default/files/field/image/fredericton.jpg\")",
            "execution_count": 2,
            "outputs": [
                {
                    "output_type": "execute_result",
                    "execution_count": 2,
                    "data": {
                        "text/html": "<img src=\"http://www.tourismfredericton.ca/sites/default/files/field/image/fredericton.jpg\"/>",
                        "text/plain": "<IPython.core.display.Image object>"
                    },
                    "metadata": {}
                }
            ]
        },
        {
            "metadata": {},
            "cell_type": "markdown",
            "source": "# Data"
        },
        {
            "metadata": {},
            "cell_type": "markdown",
            "source": "To understand and explore we will need the following City of Fredericton Open Data:"
        },
        {
            "metadata": {},
            "cell_type": "markdown",
            "source": "1. Open Data Site: http://data-fredericton.opendata.arcgis.com/ \n\n2. Fredericton Neighbourhoods: http://data-fredericton.opendata.arcgis.com/datasets/neighbourhoods--quartiers \n\n3. Fredericton Crime by Neighbourhood: http://data-fredericton.opendata.arcgis.com/datasets/crime-by-neighbourhood-2017--crime-par-quartier-2017 \n\n4. Fredericton Census Tract Demographics: http://data-fredericton.opendata.arcgis.com/datasets/census-tract-demographics--donn%C3%A9es-d%C3%A9mographiques-du-secteur-de-recensement \n\n5. Fredericton locations of interest: https://github.com/JasonLUrquhart/Applied-Data-Science-Capstone/blob/master/Fredericton%20Locations.xlsx \n\n6. Foursquare Developers Access to venue data: https://foursquare.com/ "
        },
        {
            "metadata": {},
            "cell_type": "markdown",
            "source": "Using this data will allow exploration and examination to answer the questions. The neighbourhood data will enable us to properly group crime by neighbourhood. The Census data will enable us to then compare the population density to examine if areas of highest crime are also most densely populated. Fredericton locations of interest will then allow us to cluster and quantitatively understand the venues most common to that location."
        },
        {
            "metadata": {},
            "cell_type": "markdown",
            "source": "# Methodology"
        },
        {
            "metadata": {},
            "cell_type": "markdown",
            "source": "All steps are referenced beleow in the Appendix: Analysis section"
        },
        {
            "metadata": {},
            "cell_type": "markdown",
            "source": "The methodology will include:"
        },
        {
            "metadata": {},
            "cell_type": "markdown",
            "source": "1. Loading each data set\n2. Examine the crime frequency by neighbourhood\n3. Study the crime types and then pivot analysis of crime type frequency by neighbourhood\n4. Understand correlation between crimes and population density\n5. Perform k-means statisical analysis on venues by locations of interest based on findings from crimes and neighbourhood\n6. Determine which venues are most common statistically in the region of greatest crime count then in all other locations of interest.\n7. Determine if an area, such as the Knowledge Park needs a coffee shop."
        },
        {
            "metadata": {},
            "cell_type": "markdown",
            "source": "## Loading the data"
        },
        {
            "metadata": {},
            "cell_type": "markdown",
            "source": "After loading the applicable libraries, the referenced geojson neighbourhood data was loaded from the City of Fredericton Open Data site. This dataset uses block polygon shape coordinates which are better for visualization and comparison. The City also uses Ward data but the Neighbourhood location data is more accurate and includes more details. The same type of dataset was then loaded for the population density from the Stats Canada Census tracts."
        },
        {
            "metadata": {},
            "cell_type": "markdown",
            "source": "The third dataset, an excel file, \"Crime by Neighbourhood 2017\" downloaded from the City of Fredericton Open Data site is found under the Public Safety domain. This dataset was then uploaded for the analysis. It's interesting to note the details of this dataset are aggregated by neighbourhood. It is not an exhaustive set by not including all crimes (violent offenses) nor specific location data of the crime but is referenced by neighbourhood."
        },
        {
            "metadata": {},
            "cell_type": "markdown",
            "source": "This means we can gain an understanding of the crime volume by type by area but not specific enough to understand the distribution properties. Valuable questions such as, \"are these crimes occuring more often in a specific area and at a certain time by a specific demographic of people?\" cannot be answered nor explored due to what is reasonably assumed to be personal and private information with associated legal risks."
        },
        {
            "metadata": {},
            "cell_type": "markdown",
            "source": "There is value to the city to explore the detailed crime data using data science to predict frequency, location, timing and conditions to best allocated resources for the benefit of its citizens and it's police force. However, human behaviour is complex requiring thick profile data by individual and the conditions surrounding the event(s). To be sufficient for reliable future prediction it would need to demonstrate validity, currency, reliability and sufficiency."
        },
        {
            "metadata": {},
            "cell_type": "markdown",
            "source": "## Exploring the data"
        },
        {
            "metadata": {},
            "cell_type": "markdown",
            "source": "Exploring the count of crimes by neighbourhood gives us the first glimpse into the distribution.\n\nOne note is the possibility neighbourhoods names could change at different times. The crime dataset did not mention which specific neighbourhood naming dataset it was using but we assumed the neighbourhood data provided aligned with the neighbourhoods used in the crime data. It may be beneficial for the City to note and timestamp neighbourhood naming in the future or simply reference with neighbourhood naming file it used for the crime dataset.\n\nAn example of data errors: There was an error found in the naming of the neighbourhood \"Platt\". The neighbourhood data stated \"Plat\" while the crime data stated \"Platt\". Given the crime dataset was most simple to manipulate it was modified to \"Plat\". The true name of the neighbourhood is \"Platt\"."
        },
        {
            "metadata": {},
            "cell_type": "markdown",
            "source": "**First Visualization of Crime**"
        },
        {
            "metadata": {},
            "cell_type": "markdown",
            "source": "Once the data was prepared, a choropleth map was created to view the crime count by neighbourhood. As expected the region of greatest crime count was found in the downtown and Platt neighbourhoods.\n\nExamining the crime types enables us to learn the most frequent occuring crimes which we then plot as a bar chart to see most frequenty type.\n\nTheft from motor vehicles is most prevalent in the same area as the most frequent crimes. It's interesting to note this area is mostly residential and most do not have garages. It would be interesting to further examine if surveillance is a deterant for motor vehicle crimes in the downtown core compared to low surveillance in the Platt neighbourhood.\n"
        },
        {
            "metadata": {},
            "cell_type": "markdown",
            "source": "**Examining 2nd most common crime given it is specific: theft from vehicles**"
        },
        {
            "metadata": {},
            "cell_type": "markdown",
            "source": "After exploring the pivot table showing Crime_Type by Neighbourhood, we drill into a specific type of crime, theft from vehicles and plot the choropleth map to see which area has the greatest frequency.\n\nAgain, the Platt neighbourhood appears as the most frequent.\n\nIs this due to population density?"
        },
        {
            "metadata": {},
            "cell_type": "markdown",
            "source": "**Introducing the Census data to explore the correlation between crime frequency and population density.**"
        },
        {
            "metadata": {},
            "cell_type": "markdown",
            "source": "Visualising the population density enables us to determine that the Platt neighbourhood has lower correlation to crime frequency than I would have expected.\n\nIt would be interesting to further study the Census data and if this captures the population that is renting or more temporary/transient poplution, given the City is a University hub."
        },
        {
            "metadata": {},
            "cell_type": "markdown",
            "source": "## Look at specific locations to understand the connection to venues using Foursquare data"
        },
        {
            "metadata": {},
            "cell_type": "markdown",
            "source": "Loading the \"Fredericton Locations\" data enables us to perform a statistical analysis on the most common venues by location.\n\nWe might wonder if the prevalence of bars and clubs in the downtown region has something to do with the higher crime rate in the near Platt region.\n\nPlotting the latitude and longitude coordinates of the locations of interest onto the crime choropleth map enables us to now study the most common venues by using the Foursquare data."
        },
        {
            "metadata": {},
            "cell_type": "markdown",
            "source": "**Analysing each Location**"
        },
        {
            "metadata": {},
            "cell_type": "markdown",
            "source": "Grouping rows by location and the mean of the frequency of occurance of each category we venue categories we study the top five most common venues.\n\nPutting this data into a pandas dataframe we can then determine the most common venues by location and plot onto a map."
        },
        {
            "metadata": {},
            "cell_type": "markdown",
            "source": "# Results"
        },
        {
            "metadata": {},
            "cell_type": "markdown",
            "source": "The analysis enabled us to discover and describe visually and quantitatively:"
        },
        {
            "metadata": {},
            "cell_type": "markdown",
            "source": "1. Neighbourhoods in Fredericton\n2. Crime freqency by neighbourhood\n3. Crime type frequency and statistics. The mean crime count in the City of Fredericton is 22.\n4. Crime type count by neighbourhood.\n5. Theft from motor vehicles is most prevalent in the same area as the most frequent crimes. It's interesting to note this area is mostly residential and most do not have garages. It would be interesting to further examine if surveillance is a deterant for motor vehicle crimes in the downtown core compared to low surveillance in the Platt neighbourhood."
        },
        {
            "metadata": {},
            "cell_type": "markdown",
            "source": "1. Motor Vehicle crimes less than $5000 analysis by neighbourhood and resulting statistics.\nThe most common crime is Other Theft less than 5k followed by Motor Vehicle Theft less than 5k. There is a mean of 6 motor vehicle thefts less than 5k by neighbourhood in the City.\n2. That population density and resulting visual correlation is not strongly correlated to crime frequency. Causation for crime is not able to be determined given lack of open data specificity by individual and environment.\n3. Using k-menas, we were able to determine the top 10 most common venues within a 1 km radius of the centroid of the highest crime neighbourhood. The most common venues in the highest crime neighbourhood are coffee shops followed by Pubs and Bars."
        },
        {
            "metadata": {},
            "cell_type": "markdown",
            "source": "While, it is not valid, consistent, reliable or sufficient to assume a higher concentration of the combination of coffee shops, bars and clubs predicts the amount of crime occurance in the City of Fredericton, this may be a part of the model needed to be able to in the future."
        },
        {
            "metadata": {},
            "cell_type": "markdown",
            "source": "1. We were able to determine the top 10 most common venues by location of interest.\n2. Statisically, we determined there are no coffee shops within the Knowledge Park clusters."
        },
        {
            "metadata": {},
            "cell_type": "markdown",
            "source": "# Discussion and Recommendations"
        },
        {
            "metadata": {},
            "cell_type": "markdown",
            "source": "The City of Fredericton Open Data enables us to gain an understanding of the crime volume by type by area but not specific enough to understand the distribution properties. Valuable questions such as, \"are these crimes occuring more often in a specific area and at a certain time by a specific demographic of people?\" cannot be answered nor explored due to what is reasonably assumed to be personal and private information with associated legal risks."
        },
        {
            "metadata": {},
            "cell_type": "markdown",
            "source": "There is value to the city to explore the detailed crime data using data science to predict frequency, location, timing and conditions to best allocated resources for the benefit of its citizens and it's police force. However, human behaviour is complex requiring thick profile data by individual and the conditions surrounding the event(s). To be sufficient for reliable future prediction it would need to demonstrate validity, currency, reliability and sufficiency."
        },
        {
            "metadata": {},
            "cell_type": "markdown",
            "source": "A note of caution is the possibility neighbourhoods names could change. The crime dataset did not mention which specific neighbourhood naming dataset it was using but we assumed the neighbourhood data provided aligned with the neighbourhoods used in the crime data. It may be beneficial for the City to note and timestamp neighbourhood naming in the future or simply reference with neighbourhood naming file it used for the crime dataset."
        },
        {
            "metadata": {},
            "cell_type": "markdown",
            "source": "Errors exist in the current open data. An error was found in the naming of the neighbourhood \"Platt\". The neighbourhood data stated \"Plat\" while the crime data stated \"Platt\". Given the crime dataset was most simple to manipulate it was modified to \"Plat\". The true name of the neighbourhood is \"Platt\"."
        },
        {
            "metadata": {},
            "cell_type": "markdown",
            "source": "Theft from motor vehicles is most prevalent in the same area as the most frequent crimes. It is interesting to note this area is mostly residential and most do not have garages. It would be interesting to further examine if surveillance is a deterant for motor vehicle crimes in the downtown core compared to low surveillance in the Platt neighbourhood."
        },
        {
            "metadata": {},
            "cell_type": "markdown",
            "source": "It would be interesting to further study the Census data and if this captures the population that is renting or more temporary/transient poplution, given the City is a University hub."
        },
        {
            "metadata": {},
            "cell_type": "markdown",
            "source": "Given the findings of the top 10 most frequent venues by locations of interest, the Knowledge Park does not have Coffee Shops in the top 10 most common venues as determined from the Foursquare dataset. Given this area has the greatest concentration of stores and shops as venues, it would be safe to assume a coffee shop would be beneficial to the business community and the citizens of Fredericton."
        },
        {
            "metadata": {},
            "cell_type": "markdown",
            "source": "# Conclusion"
        },
        {
            "metadata": {},
            "cell_type": "markdown",
            "source": "Using a combination of datasets from the City of Fredericton Open Data project and Foursquare venue data we were able to analyse, discover and describe neighbhourhoods, crime, population density and statistically describe quantitatively venues by locations of interest."
        },
        {
            "metadata": {},
            "cell_type": "markdown",
            "source": "While overall, the City of Fredericton Open Data is interesting, it misses the details required for true valued quantitiatve analysis and predictive analytics which would be most valued by investors and developers to make appropriate investments and to minimize risk."
        },
        {
            "metadata": {},
            "cell_type": "markdown",
            "source": "The Open Data project is a great start and empowers the need for a \"Citizens Like Me\" model to be developed where citizens of digital Fredericton are able to share their data as they wish for detailed analysis that enables the creation of valued services."
        },
        {
            "metadata": {},
            "cell_type": "markdown",
            "source": "# APPENDIX: Analysis"
        },
        {
            "metadata": {},
            "cell_type": "markdown",
            "source": "## Load Libraries"
        },
        {
            "metadata": {},
            "cell_type": "code",
            "source": "import numpy as np # library to handle data in a vectorized manner\n\nimport pandas as pd # library for data analysis\npd.set_option('display.max_columns', None)\npd.set_option('display.max_rows', None)\n\nimport json # library to handle JSON files\n\n!conda install -c conda-forge geopy --yes # uncomment this line if you haven't completed the Foursquare API lab\nfrom geopy.geocoders import Nominatim # convert an address into latitude and longitude values\n\nimport requests # library to handle requests\nfrom pandas.io.json import json_normalize # tranform JSON file into a pandas dataframe\n\n# Matplotlib and associated plotting modules\nimport matplotlib.cm as cm\nimport matplotlib.colors as colors\n\n# import k-means from clustering stage\nfrom sklearn.cluster import KMeans\n\n# for webscraping import Beautiful Soup \nfrom bs4 import BeautifulSoup\n\nimport xml\n\n!conda install -c conda-forge folium=0.5.0 --yes \nimport folium # map rendering library\n\nprint('Libraries imported.')",
            "execution_count": 3,
            "outputs": [
                {
                    "output_type": "stream",
                    "text": "Solving environment: done\n\n## Package Plan ##\n\n  environment location: /opt/conda/envs/Python36\n\n  added / updated specs: \n    - geopy\n\n\nThe following packages will be downloaded:\n\n    package                    |            build\n    ---------------------------|-----------------\n    certifi-2019.9.11          |           py36_0         147 KB  conda-forge\n    openssl-1.1.1d             |       h516909a_0         2.1 MB  conda-forge\n    ca-certificates-2019.9.11  |       hecc5488_0         144 KB  conda-forge\n    geopy-1.20.0               |             py_0          57 KB  conda-forge\n    geographiclib-1.50         |             py_0          34 KB  conda-forge\n    ------------------------------------------------------------\n                                           Total:         2.5 MB\n\nThe following NEW packages will be INSTALLED:\n\n    geographiclib:   1.50-py_0         conda-forge\n    geopy:           1.20.0-py_0       conda-forge\n\nThe following packages will be UPDATED:\n\n    certifi:         2019.9.11-py36_0              --> 2019.9.11-py36_0     conda-forge\n\nThe following packages will be DOWNGRADED:\n\n    ca-certificates: 2019.10.16-0                  --> 2019.9.11-hecc5488_0 conda-forge\n    openssl:         1.1.1d-h7b6447c_3             --> 1.1.1d-h516909a_0    conda-forge\n\n\nDownloading and Extracting Packages\ncertifi-2019.9.11    | 147 KB    | ##################################### | 100% \nopenssl-1.1.1d       | 2.1 MB    | ##################################### | 100% \nca-certificates-2019 | 144 KB    | ##################################### | 100% \ngeopy-1.20.0         | 57 KB     | ##################################### | 100% \ngeographiclib-1.50   | 34 KB     | ##################################### | 100% \nPreparing transaction: done\nVerifying transaction: done\nExecuting transaction: done\nSolving environment: done\n\n## Package Plan ##\n\n  environment location: /opt/conda/envs/Python36\n\n  added / updated specs: \n    - folium=0.5.0\n\n\nThe following packages will be downloaded:\n\n    package                    |            build\n    ---------------------------|-----------------\n    altair-3.2.0               |           py36_0         770 KB  conda-forge\n    vincent-0.4.4              |             py_1          28 KB  conda-forge\n    folium-0.5.0               |             py_0          45 KB  conda-forge\n    branca-0.3.1               |             py_0          25 KB  conda-forge\n    ------------------------------------------------------------\n                                           Total:         868 KB\n\nThe following NEW packages will be INSTALLED:\n\n    altair:  3.2.0-py36_0 conda-forge\n    branca:  0.3.1-py_0   conda-forge\n    folium:  0.5.0-py_0   conda-forge\n    vincent: 0.4.4-py_1   conda-forge\n\n\nDownloading and Extracting Packages\naltair-3.2.0         | 770 KB    | ##################################### | 100% \nvincent-0.4.4        | 28 KB     | ##################################### | 100% \nfolium-0.5.0         | 45 KB     | ##################################### | 100% \nbranca-0.3.1         | 25 KB     | ##################################### | 100% \nPreparing transaction: done\nVerifying transaction: done\nExecuting transaction: done\nLibraries imported.\n",
                    "name": "stdout"
                }
            ]
        },
        {
            "metadata": {},
            "cell_type": "code",
            "source": "r = requests.get('https://opendata.arcgis.com/datasets/823d86e17a6d47808c6e4f1c2dd97928_0.geojson')\nfredericton_geo = r.json()",
            "execution_count": 4,
            "outputs": []
        },
        {
            "metadata": {},
            "cell_type": "code",
            "source": "neighborhoods_data = fredericton_geo['features']",
            "execution_count": 5,
            "outputs": []
        },
        {
            "metadata": {},
            "cell_type": "code",
            "source": "neighborhoods_data[0]",
            "execution_count": 6,
            "outputs": [
                {
                    "output_type": "execute_result",
                    "execution_count": 6,
                    "data": {
                        "text/plain": "{'type': 'Feature',\n 'properties': {'FID': 1,\n  'OBJECTID': 1,\n  'Neighbourh': 'Fredericton South',\n  'Shape_Leng': 40412.2767429,\n  'Shape_Area': 32431889.0002},\n 'geometry': {'type': 'Polygon',\n  'coordinates': [[[-66.6193489311946, 45.8688925859664],\n    [-66.5986068312843, 45.8934317575498],\n    [-66.5998465063764, 45.8962889533894],\n    [-66.6005561754508, 45.8987959122414],\n    [-66.6007627879662, 45.9004150599189],\n    [-66.6005112596866, 45.9020341603803],\n    [-66.5993703992758, 45.9049409211054],\n    [-66.5983912356161, 45.9066536507875],\n    [-66.5950405196063, 45.9110977503182],\n    [-66.5924713378938, 45.9137165396725],\n    [-66.5975198697905, 45.9151915074375],\n    [-66.6016161874861, 45.9165914405789],\n    [-66.6063862416448, 45.9184662957134],\n    [-66.6102310310608, 45.9201848572716],\n    [-66.6193938469588, 45.9264149777787],\n    [-66.6194297795702, 45.9243466803461],\n    [-66.6206694546623, 45.9221345790227],\n    [-66.6241459348118, 45.9181100781124],\n    [-66.6249634017204, 45.9177976046497],\n    [-66.6258796833102, 45.917910095299],\n    [-66.6292124330143, 45.9200348758374],\n    [-66.632733828928, 45.9225720071846],\n    [-66.6356353872957, 45.924409167803],\n    [-66.6362731911474, 45.9249840491044],\n    [-66.6381955858555, 45.9258900999313],\n    [-66.6400281490351, 45.9272147820915],\n    [-66.6469721261813, 45.9309512150791],\n    [-66.6492628301558, 45.9324257247173],\n    [-66.6501521622871, 45.9331254782868],\n    [-66.6504306400252, 45.9337564984884],\n    [-66.6505653873178, 45.9347436246005],\n    [-66.6503587748024, 45.9357182382069],\n    [-66.6520745569951, 45.9352246860213],\n    [-66.6532513500173, 45.9350872403269],\n    [-66.6541855979128, 45.9351122304785],\n    [-66.6557756159657, 45.9353808738969],\n    [-66.6597461695215, 45.9365616400027],\n    [-66.6692323789218, 45.9408659130747],\n    [-66.6702205257343, 45.9411720097543],\n    [-66.6705888350008, 45.9415718069541],\n    [-66.6717027459531, 45.9418654061867],\n    [-66.6805601346545, 45.9456570693391],\n    [-66.6808206460869, 45.945613344883],\n    [-66.690998558256, 45.9498794400526],\n    [-66.6932353633134, 45.9503791076107],\n    [-66.6956697977334, 45.9504478115476],\n    [-66.6955530167465, 45.9498607024316],\n    [-66.695014027576, 45.9498607024316],\n    [-66.6956248819692, 45.948261735435],\n    [-66.699766115429, 45.9452510552052],\n    [-66.6993978061625, 45.9450511702315],\n    [-66.6996762839006, 45.9448512845371],\n    [-66.6992271262585, 45.9446139193389],\n    [-66.7022364824603, 45.9407722096716],\n    [-66.7041049782513, 45.9393666396225],\n    [-66.7046080348104, 45.9387919073835],\n    [-66.7061441539463, 45.9390980155132],\n    [-66.7051919397451, 45.9388543785676],\n    [-66.7056949963042, 45.937405028971],\n    [-66.706611277894, 45.9362430230541],\n    [-66.7074107784969, 45.9356745059121],\n    [-66.7087133356588, 45.9350435075345],\n    [-66.7110938711618, 45.9342063302882],\n    [-66.7122526978783, 45.9309262230525],\n    [-66.7096026677901, 45.9293891917718],\n    [-66.6746402369322, 45.9061285859908],\n    [-66.6193489311946, 45.8688925859664]],\n   [[-66.6934150263703, 45.938648223393],\n    [-66.7001973067654, 45.9422339647247],\n    [-66.6939180829294, 45.9467626619838],\n    [-66.6912141539242, 45.9449262417569],\n    [-66.6899475293736, 45.9445014828376],\n    [-66.6890312477838, 45.9444702504357],\n    [-66.6889683657139, 45.9443827996167],\n    [-66.6899565125264, 45.9418404190785],\n    [-66.6934150263703, 45.938648223393]],\n   [[-66.6550120479742, 45.9291455121693],\n    [-66.6557756159657, 45.9292704762017],\n    [-66.6599797314954, 45.9309387190672],\n    [-66.6629172224744, 45.9322757763752],\n    [-66.6631867170597, 45.932475707408],\n    [-66.6631238349898, 45.9327880982037],\n    [-66.6619290756619, 45.9341813397283],\n    [-66.6616146653125, 45.9340751297235],\n    [-66.6601863440107, 45.934818595486],\n    [-66.6591442982811, 45.9350997354041],\n    [-66.6586053091106, 45.9351059829416],\n    [-66.6564673187345, 45.9348748235837],\n    [-66.6542933957469, 45.9340501391045],\n    [-66.6529908385849, 45.9333129107794],\n    [-66.652308118969, 45.9324569639043],\n    [-66.652191337982, 45.9319696305845],\n    [-66.6522721863576, 45.9313573339335],\n    [-66.6520476075366, 45.9305825815444],\n    [-66.6521284559121, 45.9301264722544],\n    [-66.6524428662616, 45.9296016295261],\n    [-66.6531166027247, 45.9293392062996],\n    [-66.6540508506202, 45.9291580085852],\n    [-66.6550120479742, 45.9291455121693]],\n   [[-66.6318085641854, 45.8878357293373],\n    [-66.6328775593735, 45.8879357750148],\n    [-66.6341801165354, 45.8882108996987],\n    [-66.6351502970423, 45.8885422980769],\n    [-66.6362462416889, 45.8890987927924],\n    [-66.6370098096804, 45.8896365239624],\n    [-66.6381596532441, 45.8909183040123],\n    [-66.6385818614276, 45.8918186586532],\n    [-66.6387435581788, 45.8925689430378],\n    [-66.6385908445805, 45.8940757335582],\n    [-66.6327517952337, 45.900733882662],\n    [-66.62923039932, 45.9050971942525],\n    [-66.6276673307256, 45.9064848805016],\n    [-66.626454605092, 45.9071974626627],\n    [-66.6253856099039, 45.9076662617274],\n    [-66.6230230407067, 45.9082913209882],\n    [-66.6205077579111, 45.9084913384651],\n    [-66.6180014582685, 45.9082413165064],\n    [-66.6181092561025, 45.9082100636823],\n    [-66.6170312777616, 45.9076037554142],\n    [-66.6161239793246, 45.9068661756028],\n    [-66.6150909167479, 45.9054972515047],\n    [-66.6147944727041, 45.9047533927481],\n    [-66.6146417591058, 45.9037907372083],\n    [-66.6146956580229, 45.9030155998367],\n    [-66.614974135761, 45.9020654166814],\n    [-66.617345688111, 45.8989772091164],\n    [-66.6203819937714, 45.8954199312614],\n    [-66.6263468072579, 45.8892363524244],\n    [-66.6281254715205, 45.8883672199348],\n    [-66.6291315846387, 45.8880795903605],\n    [-66.6304521081064, 45.8878732464875],\n    [-66.6318085641854, 45.8878357293373]]]}}"
                    },
                    "metadata": {}
                }
            ]
        },
        {
            "metadata": {},
            "cell_type": "code",
            "source": "g = requests.get('https://opendata.arcgis.com/datasets/6179d35eacb144a5b5fdcc869f86dfb5_0.geojson')\ndemog_geo = g.json()",
            "execution_count": 7,
            "outputs": []
        },
        {
            "metadata": {},
            "cell_type": "code",
            "source": "demog_data = demog_geo['features']\ndemog_data[0]",
            "execution_count": 8,
            "outputs": [
                {
                    "output_type": "execute_result",
                    "execution_count": 8,
                    "data": {
                        "text/plain": "{'type': 'Feature',\n 'properties': {'FID': 1,\n  'OBJECTID': 501,\n  'DBUID': '1310024304',\n  'DAUID': '13100243',\n  'CDUID': '1310',\n  'CTUID': '3200002.00',\n  'CTNAME': '0002.00',\n  'DBuid_1': '1310024304',\n  'DBpop2011': 60,\n  'DBtdwell20': 25,\n  'DBurdwell2': 22,\n  'Shape_Leng': 0.00746165241824,\n  'Shape_Area': 2.81310751889e-06,\n  'CTIDLINK': 3200002,\n  'Shape__Area': 2.81310897700361e-06,\n  'Shape__Length': 0.00746165464503067},\n 'geometry': {'type': 'Polygon',\n  'coordinates': [[[-66.634784212921, 45.9519239912381],\n    [-66.6351046935752, 45.9507605156138],\n    [-66.6378263667982, 45.9510868696778],\n    [-66.636944377136, 45.9521037018384],\n    [-66.634784212921, 45.9519239912381]]]}}"
                    },
                    "metadata": {}
                }
            ]
        },
        {
            "metadata": {},
            "cell_type": "code",
            "source": "",
            "execution_count": null,
            "outputs": []
        }
    ],
    "metadata": {
        "kernelspec": {
            "name": "python3",
            "display_name": "Python 3.6",
            "language": "python"
        },
        "language_info": {
            "name": "python",
            "version": "3.6.8",
            "mimetype": "text/x-python",
            "codemirror_mode": {
                "name": "ipython",
                "version": 3
            },
            "pygments_lexer": "ipython3",
            "nbconvert_exporter": "python",
            "file_extension": ".py"
        }
    },
    "nbformat": 4,
    "nbformat_minor": 1
}